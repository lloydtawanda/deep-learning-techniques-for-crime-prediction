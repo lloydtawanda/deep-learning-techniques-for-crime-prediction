{
 "cells": [
  {
   "cell_type": "markdown",
   "id": "358e2241",
   "metadata": {},
   "source": [
    "### Chicago Crime Dataset"
   ]
  },
  {
   "cell_type": "code",
   "execution_count": 21,
   "id": "e7fa084d",
   "metadata": {},
   "outputs": [],
   "source": [
    "from sklearn.model_selection import train_test_split\n",
    "import pandas as pd\n",
    "import data_prep_utils as utils\n",
    "import numpy as np"
   ]
  },
  {
   "cell_type": "code",
   "execution_count": 2,
   "id": "1ac4cb45",
   "metadata": {},
   "outputs": [],
   "source": [
    "chicago_crime = pd.read_csv('data/chicago.csv')"
   ]
  },
  {
   "cell_type": "code",
   "execution_count": 3,
   "id": "dd82be52",
   "metadata": {},
   "outputs": [
    {
     "name": "stdout",
     "output_type": "stream",
     "text": [
      "<class 'pandas.core.frame.DataFrame'>\n",
      "RangeIndex: 211346 entries, 0 to 211345\n",
      "Data columns (total 22 columns):\n",
      " #   Column                Non-Null Count   Dtype  \n",
      "---  ------                --------------   -----  \n",
      " 0   ID                    211346 non-null  int64  \n",
      " 1   Case Number           211346 non-null  object \n",
      " 2   Date                  211346 non-null  object \n",
      " 3   Block                 211346 non-null  object \n",
      " 4   IUCR                  211346 non-null  object \n",
      " 5   Primary Type          211346 non-null  object \n",
      " 6   Description           211346 non-null  object \n",
      " 7   Location Description  210130 non-null  object \n",
      " 8   Arrest                211346 non-null  bool   \n",
      " 9   Domestic              211346 non-null  bool   \n",
      " 10  Beat                  211346 non-null  int64  \n",
      " 11  District              211346 non-null  int64  \n",
      " 12  Ward                  211337 non-null  float64\n",
      " 13  Community Area        211345 non-null  float64\n",
      " 14  FBI Code              211346 non-null  object \n",
      " 15  X Coordinate          208462 non-null  float64\n",
      " 16  Y Coordinate          208462 non-null  float64\n",
      " 17  Year                  211346 non-null  int64  \n",
      " 18  Updated On            211346 non-null  object \n",
      " 19  Latitude              208462 non-null  float64\n",
      " 20  Longitude             208462 non-null  float64\n",
      " 21  Location              208462 non-null  object \n",
      "dtypes: bool(2), float64(6), int64(4), object(10)\n",
      "memory usage: 32.7+ MB\n"
     ]
    }
   ],
   "source": [
    "chicago_crime.info()"
   ]
  },
  {
   "cell_type": "code",
   "execution_count": 4,
   "id": "db02a140",
   "metadata": {},
   "outputs": [],
   "source": [
    "chicago_crime.Date = pd.to_datetime(chicago_crime.Date)"
   ]
  },
  {
   "cell_type": "code",
   "execution_count": 5,
   "id": "0bf7fcc4",
   "metadata": {},
   "outputs": [],
   "source": [
    "chicago_crime = chicago_crime[chicago_crime['Date'].dt.year >= 2008]"
   ]
  },
  {
   "cell_type": "code",
   "execution_count": 6,
   "id": "a7fe376a",
   "metadata": {},
   "outputs": [
    {
     "data": {
      "text/plain": [
       "(211346, 22)"
      ]
     },
     "execution_count": 6,
     "metadata": {},
     "output_type": "execute_result"
    }
   ],
   "source": [
    "chicago_crime.shape"
   ]
  },
  {
   "cell_type": "code",
   "execution_count": 7,
   "id": "9f673747",
   "metadata": {},
   "outputs": [
    {
     "data": {
      "text/plain": [
       "array(['THEFT', 'MOTOR VEHICLE THEFT', 'ASSAULT', 'DECEPTIVE PRACTICE',\n",
       "       'NARCOTICS', 'CRIMINAL DAMAGE', 'ROBBERY', 'BATTERY',\n",
       "       'OTHER OFFENSE', 'BURGLARY', 'INTERFERENCE WITH PUBLIC OFFICER',\n",
       "       'SEX OFFENSE', 'WEAPONS VIOLATION', 'OFFENSE INVOLVING CHILDREN',\n",
       "       'STALKING', 'PUBLIC PEACE VIOLATION', 'ARSON', 'KIDNAPPING',\n",
       "       'CRIMINAL TRESPASS', 'INTIMIDATION', 'CRIMINAL SEXUAL ASSAULT',\n",
       "       'CONCEALED CARRY LICENSE VIOLATION', 'HOMICIDE',\n",
       "       'LIQUOR LAW VIOLATION', 'GAMBLING', 'OBSCENITY', 'PROSTITUTION',\n",
       "       'PUBLIC INDECENCY', 'HUMAN TRAFFICKING',\n",
       "       'OTHER NARCOTIC VIOLATION', 'CRIM SEXUAL ASSAULT', 'NON-CRIMINAL',\n",
       "       'RITUALISM'], dtype=object)"
      ]
     },
     "execution_count": 7,
     "metadata": {},
     "output_type": "execute_result"
    }
   ],
   "source": [
    "chicago_crime['Primary Type'].unique()"
   ]
  },
  {
   "cell_type": "markdown",
   "id": "47897544",
   "metadata": {},
   "source": [
    "### Theft crimes"
   ]
  },
  {
   "cell_type": "code",
   "execution_count": 8,
   "id": "50a87f6d",
   "metadata": {},
   "outputs": [],
   "source": [
    "chicago_theft_crimes = chicago_crime.copy()"
   ]
  },
  {
   "cell_type": "code",
   "execution_count": 9,
   "id": "bc74fe9f",
   "metadata": {},
   "outputs": [],
   "source": [
    "chicago_theft = chicago_theft_crimes['Primary Type'].apply(lambda x: 1 if x ==  'THEFT' else 0)"
   ]
  },
  {
   "cell_type": "code",
   "execution_count": 10,
   "id": "c75ea8b6",
   "metadata": {},
   "outputs": [
    {
     "data": {
      "text/plain": [
       "0         1\n",
       "1         0\n",
       "2         0\n",
       "3         0\n",
       "4         0\n",
       "         ..\n",
       "211341    0\n",
       "211342    0\n",
       "211343    0\n",
       "211344    1\n",
       "211345    0\n",
       "Name: Primary Type, Length: 211346, dtype: int64"
      ]
     },
     "execution_count": 10,
     "metadata": {},
     "output_type": "execute_result"
    }
   ],
   "source": [
    "chicago_theft"
   ]
  },
  {
   "cell_type": "code",
   "execution_count": 11,
   "id": "70d345a4",
   "metadata": {},
   "outputs": [],
   "source": [
    "chicago_theft_crimes['Primary Type'] = chicago_theft"
   ]
  },
  {
   "cell_type": "code",
   "execution_count": 12,
   "id": "e8d6904b",
   "metadata": {},
   "outputs": [],
   "source": [
    "chicago_theft_crimes = utils.coord_to_grid(chicago_theft_crimes, lat_col='Latitude', lon_col='Longitude')"
   ]
  },
  {
   "cell_type": "code",
   "execution_count": 13,
   "id": "a1d3b2ad",
   "metadata": {},
   "outputs": [],
   "source": [
    "chicago_theft_crimes = utils.feature_reduce(\n",
    "    chicago_theft_crimes,\n",
    "    features=['Date', 'binned_latitude', 'binned_longitude', 'Primary Type'],\n",
    "    sort_by='Primary Type')"
   ]
  },
  {
   "cell_type": "code",
   "execution_count": 14,
   "id": "352a2e85",
   "metadata": {},
   "outputs": [
    {
     "data": {
      "text/html": [
       "<div>\n",
       "<style scoped>\n",
       "    .dataframe tbody tr th:only-of-type {\n",
       "        vertical-align: middle;\n",
       "    }\n",
       "\n",
       "    .dataframe tbody tr th {\n",
       "        vertical-align: top;\n",
       "    }\n",
       "\n",
       "    .dataframe thead th {\n",
       "        text-align: right;\n",
       "    }\n",
       "</style>\n",
       "<table border=\"1\" class=\"dataframe\">\n",
       "  <thead>\n",
       "    <tr style=\"text-align: right;\">\n",
       "      <th></th>\n",
       "      <th>Date</th>\n",
       "      <th>binned_latitude</th>\n",
       "      <th>binned_longitude</th>\n",
       "      <th>Primary Type</th>\n",
       "    </tr>\n",
       "  </thead>\n",
       "  <tbody>\n",
       "    <tr>\n",
       "      <th>0</th>\n",
       "      <td>2020-03-17 21:30:00</td>\n",
       "      <td>13</td>\n",
       "      <td>7</td>\n",
       "      <td>1</td>\n",
       "    </tr>\n",
       "    <tr>\n",
       "      <th>60006</th>\n",
       "      <td>2020-05-23 15:14:00</td>\n",
       "      <td>9</td>\n",
       "      <td>11</td>\n",
       "      <td>1</td>\n",
       "    </tr>\n",
       "    <tr>\n",
       "      <th>163156</th>\n",
       "      <td>2020-03-12 17:00:00</td>\n",
       "      <td>11</td>\n",
       "      <td>7</td>\n",
       "      <td>1</td>\n",
       "    </tr>\n",
       "    <tr>\n",
       "      <th>60104</th>\n",
       "      <td>2020-01-13 21:00:00</td>\n",
       "      <td>15</td>\n",
       "      <td>9</td>\n",
       "      <td>1</td>\n",
       "    </tr>\n",
       "    <tr>\n",
       "      <th>163149</th>\n",
       "      <td>2020-03-07 23:00:00</td>\n",
       "      <td>14</td>\n",
       "      <td>8</td>\n",
       "      <td>1</td>\n",
       "    </tr>\n",
       "  </tbody>\n",
       "</table>\n",
       "</div>"
      ],
      "text/plain": [
       "                      Date  binned_latitude  binned_longitude  Primary Type\n",
       "0      2020-03-17 21:30:00               13                 7             1\n",
       "60006  2020-05-23 15:14:00                9                11             1\n",
       "163156 2020-03-12 17:00:00               11                 7             1\n",
       "60104  2020-01-13 21:00:00               15                 9             1\n",
       "163149 2020-03-07 23:00:00               14                 8             1"
      ]
     },
     "execution_count": 14,
     "metadata": {},
     "output_type": "execute_result"
    }
   ],
   "source": [
    "chicago_theft_crimes.head()"
   ]
  },
  {
   "cell_type": "code",
   "execution_count": 15,
   "id": "521c53cc",
   "metadata": {},
   "outputs": [
    {
     "name": "stderr",
     "output_type": "stream",
     "text": [
      "Converting...: 34it [00:00, 1707.43it/s]"
     ]
    },
    {
     "name": "stdout",
     "output_type": "stream",
     "text": [
      "Time Elapsed: 0 min\n"
     ]
    },
    {
     "name": "stderr",
     "output_type": "stream",
     "text": [
      "\n"
     ]
    }
   ],
   "source": [
    "chicago_theft_crimes = utils.convert_to_image_data(chicago_theft_crimes.head(1000), crime_col='Primary Type')"
   ]
  },
  {
   "cell_type": "code",
   "execution_count": 16,
   "id": "f6b7f240",
   "metadata": {},
   "outputs": [
    {
     "data": {
      "text/plain": [
       "34"
      ]
     },
     "execution_count": 16,
     "metadata": {},
     "output_type": "execute_result"
    }
   ],
   "source": [
    "chicago_theft_crimes['batches']"
   ]
  },
  {
   "cell_type": "code",
   "execution_count": 17,
   "id": "09f81c2b",
   "metadata": {},
   "outputs": [],
   "source": [
    "chicago_theft_X_train, chicago_theft_X_test, chicago_theft_y_train, chicago_theft_y_test = train_test_split(\n",
    "    chicago_theft_crimes['inputs'],\n",
    "    chicago_theft_crimes['outputs'],\n",
    "    test_size=0.33,\n",
    "    random_state=42)"
   ]
  },
  {
   "cell_type": "code",
   "execution_count": 20,
   "id": "ab046012",
   "metadata": {},
   "outputs": [
    {
     "data": {
      "text/plain": [
       "5"
      ]
     },
     "execution_count": 20,
     "metadata": {},
     "output_type": "execute_result"
    }
   ],
   "source": [
    "chicago_theft_X_train.ndim"
   ]
  },
  {
   "cell_type": "code",
   "execution_count": 23,
   "id": "346c767a",
   "metadata": {},
   "outputs": [],
   "source": [
    "with open('data/binary-classification/chicago/chicago_theft_X_train.npy', 'wb') as f:\n",
    "    np.save(f, chicago_theft_X_train)\n",
    "\n",
    "with open('data/binary-classification/chicago/chicago_theft_X_test.npy', 'wb') as f:\n",
    "    np.save(f, chicago_theft_X_test)\n",
    "    \n",
    "with open('data/binary-classification/chicago/chicago_theft_y_train.npy', 'wb') as f:\n",
    "    np.save(f, chicago_theft_y_train)\n",
    "\n",
    "with open('data/binary-classification/chicago/chicago_theft_y_test.npy', 'wb') as f:\n",
    "    np.save(f, chicago_theft_y_test)"
   ]
  },
  {
   "cell_type": "markdown",
   "id": "caa61c06",
   "metadata": {},
   "source": [
    "### Battery crimes"
   ]
  },
  {
   "cell_type": "code",
   "execution_count": 10,
   "id": "80668ce5",
   "metadata": {},
   "outputs": [],
   "source": [
    "chicago_battery_crimes = chicago_crime['Primary Type'].apply(lambda x: 1 if x ==  'BATTERY' else 0)"
   ]
  },
  {
   "cell_type": "markdown",
   "id": "b7b35a6c",
   "metadata": {},
   "source": [
    "### Criminal damage crimes"
   ]
  },
  {
   "cell_type": "code",
   "execution_count": 11,
   "id": "8dd38c67",
   "metadata": {},
   "outputs": [],
   "source": [
    "chicago_criminal_damage_crimes = chicago_crime['Primary Type'].apply(lambda x: 1 if x ==  'CRIMINAL DAMAGE' else 0)"
   ]
  },
  {
   "cell_type": "code",
   "execution_count": 12,
   "id": "8901002c",
   "metadata": {},
   "outputs": [
    {
     "ename": "AttributeError",
     "evalue": "'Series' object has no attribute 'info'",
     "output_type": "error",
     "traceback": [
      "\u001b[0;31m---------------------------------------------------------------------------\u001b[0m",
      "\u001b[0;31mAttributeError\u001b[0m                            Traceback (most recent call last)",
      "\u001b[0;32m/var/folders/pt/b5p9pqlx1dj3d4988dnj9tsw0000gn/T/ipykernel_39363/2756756921.py\u001b[0m in \u001b[0;36m<module>\u001b[0;34m\u001b[0m\n\u001b[0;32m----> 1\u001b[0;31m \u001b[0mchicago_theft_crimes\u001b[0m\u001b[0;34m.\u001b[0m\u001b[0minfo\u001b[0m\u001b[0;34m(\u001b[0m\u001b[0;34m)\u001b[0m\u001b[0;34m\u001b[0m\u001b[0;34m\u001b[0m\u001b[0m\n\u001b[0m",
      "\u001b[0;32m/usr/local/lib/python3.9/site-packages/pandas/core/generic.py\u001b[0m in \u001b[0;36m__getattr__\u001b[0;34m(self, name)\u001b[0m\n\u001b[1;32m   5485\u001b[0m         ):\n\u001b[1;32m   5486\u001b[0m             \u001b[0;32mreturn\u001b[0m \u001b[0mself\u001b[0m\u001b[0;34m[\u001b[0m\u001b[0mname\u001b[0m\u001b[0;34m]\u001b[0m\u001b[0;34m\u001b[0m\u001b[0;34m\u001b[0m\u001b[0m\n\u001b[0;32m-> 5487\u001b[0;31m         \u001b[0;32mreturn\u001b[0m \u001b[0mobject\u001b[0m\u001b[0;34m.\u001b[0m\u001b[0m__getattribute__\u001b[0m\u001b[0;34m(\u001b[0m\u001b[0mself\u001b[0m\u001b[0;34m,\u001b[0m \u001b[0mname\u001b[0m\u001b[0;34m)\u001b[0m\u001b[0;34m\u001b[0m\u001b[0;34m\u001b[0m\u001b[0m\n\u001b[0m\u001b[1;32m   5488\u001b[0m \u001b[0;34m\u001b[0m\u001b[0m\n\u001b[1;32m   5489\u001b[0m     \u001b[0;32mdef\u001b[0m \u001b[0m__setattr__\u001b[0m\u001b[0;34m(\u001b[0m\u001b[0mself\u001b[0m\u001b[0;34m,\u001b[0m \u001b[0mname\u001b[0m\u001b[0;34m:\u001b[0m \u001b[0mstr\u001b[0m\u001b[0;34m,\u001b[0m \u001b[0mvalue\u001b[0m\u001b[0;34m)\u001b[0m \u001b[0;34m->\u001b[0m \u001b[0;32mNone\u001b[0m\u001b[0;34m:\u001b[0m\u001b[0;34m\u001b[0m\u001b[0;34m\u001b[0m\u001b[0m\n",
      "\u001b[0;31mAttributeError\u001b[0m: 'Series' object has no attribute 'info'"
     ]
    }
   ],
   "source": [
    "chicago_theft_crimes.info()"
   ]
  },
  {
   "cell_type": "markdown",
   "id": "941f5a20",
   "metadata": {},
   "source": [
    "### Seattle Crime Dataset"
   ]
  },
  {
   "cell_type": "code",
   "execution_count": 16,
   "id": "d91089fb",
   "metadata": {},
   "outputs": [],
   "source": [
    "seattle_crime = pd.read_csv('seattle.csv')"
   ]
  },
  {
   "cell_type": "code",
   "execution_count": 17,
   "id": "84f9e96e",
   "metadata": {},
   "outputs": [
    {
     "name": "stdout",
     "output_type": "stream",
     "text": [
      "<class 'pandas.core.frame.DataFrame'>\n",
      "RangeIndex: 961128 entries, 0 to 961127\n",
      "Data columns (total 17 columns):\n",
      " #   Column                  Non-Null Count   Dtype  \n",
      "---  ------                  --------------   -----  \n",
      " 0   Report Number           961128 non-null  object \n",
      " 1   Offense ID              961128 non-null  int64  \n",
      " 2   Offense Start DateTime  960173 non-null  object \n",
      " 3   Offense End DateTime    530226 non-null  object \n",
      " 4   Report DateTime         961128 non-null  object \n",
      " 5   Group A B               961128 non-null  object \n",
      " 6   Crime Against Category  961128 non-null  object \n",
      " 7   Offense Parent Group    961128 non-null  object \n",
      " 8   Offense                 961128 non-null  object \n",
      " 9   Offense Code            961128 non-null  object \n",
      " 10  Precinct                961124 non-null  object \n",
      " 11  Sector                  961126 non-null  object \n",
      " 12  Beat                    961126 non-null  object \n",
      " 13  MCPP                    961125 non-null  object \n",
      " 14  100 Block Address       923182 non-null  object \n",
      " 15  Longitude               961128 non-null  float64\n",
      " 16  Latitude                961128 non-null  float64\n",
      "dtypes: float64(2), int64(1), object(14)\n",
      "memory usage: 124.7+ MB\n"
     ]
    }
   ],
   "source": [
    "seattle_crime.info()"
   ]
  },
  {
   "cell_type": "code",
   "execution_count": 18,
   "id": "4b6fcd7f",
   "metadata": {},
   "outputs": [
    {
     "name": "stderr",
     "output_type": "stream",
     "text": [
      "/home/ec2-user/anaconda3/envs/tensorflow2_p36/lib/python3.6/site-packages/ipykernel/__main__.py:1: UserWarning: Pandas doesn't allow columns to be created via a new attribute name - see https://pandas.pydata.org/pandas-docs/stable/indexing.html#attribute-access\n",
      "  if __name__ == '__main__':\n"
     ]
    }
   ],
   "source": [
    "seattle_crime.Date = pd.to_datetime(seattle_crime['Report DateTime'])"
   ]
  },
  {
   "cell_type": "code",
   "execution_count": 30,
   "id": "beca36bc",
   "metadata": {},
   "outputs": [],
   "source": [
    "seattle_crime_report_dates = seattle_crime['Report DateTime'].tolist()"
   ]
  },
  {
   "cell_type": "code",
   "execution_count": 32,
   "id": "0a37869f",
   "metadata": {},
   "outputs": [
    {
     "data": {
      "text/plain": [
       "['12/31/2021 12:56:55 AM', '01/01/2008 01:00:00 AM']"
      ]
     },
     "execution_count": 32,
     "metadata": {},
     "output_type": "execute_result"
    }
   ],
   "source": [
    "seattle_crime_report_dates.sort(reverse=True)\n",
    "seattle_crime_report_range = [seattle_crime_report_dates[0], seattle_crime_report_dates[-1]]\n",
    "seattle_crime_report_range"
   ]
  },
  {
   "cell_type": "code",
   "execution_count": 33,
   "id": "e292202c",
   "metadata": {},
   "outputs": [
    {
     "data": {
      "text/plain": [
       "961128"
      ]
     },
     "execution_count": 33,
     "metadata": {},
     "output_type": "execute_result"
    }
   ],
   "source": [
    "len(seattle_crime_report_dates)"
   ]
  },
  {
   "cell_type": "code",
   "execution_count": 54,
   "id": "0ffa47e9",
   "metadata": {},
   "outputs": [],
   "source": [
    "!echo *.csv >> .gitignore\n",
    "\n"
   ]
  },
  {
   "cell_type": "code",
   "execution_count": 55,
   "id": "999fc8d4",
   "metadata": {},
   "outputs": [
    {
     "name": "stdout",
     "output_type": "stream",
     "text": [
      "# Byte-compiled / optimized / DLL files\r\n",
      "__pycache__/\r\n",
      "*.py[cod]\r\n",
      "*$py.class\r\n",
      "\r\n",
      "# C extensions\r\n",
      "*.so\r\n",
      "\r\n",
      "# Distribution / packaging\r\n",
      ".Python\r\n",
      "build/\r\n",
      "develop-eggs/\r\n",
      "dist/\r\n",
      "downloads/\r\n",
      "eggs/\r\n",
      ".eggs/\r\n",
      "lib/\r\n",
      "lib64/\r\n",
      "parts/\r\n",
      "sdist/\r\n",
      "var/\r\n",
      "wheels/\r\n",
      "pip-wheel-metadata/\r\n",
      "share/python-wheels/\r\n",
      "*.egg-info/\r\n",
      ".installed.cfg\r\n",
      "*.egg\r\n",
      "MANIFEST\r\n",
      "\r\n",
      "# PyInstaller\r\n",
      "#  Usually these files are written by a python script from a template\r\n",
      "#  before PyInstaller builds the exe, so as to inject date/other infos into it.\r\n",
      "*.manifest\r\n",
      "*.spec\r\n",
      "\r\n",
      "# Installer logs\r\n",
      "pip-log.txt\r\n",
      "pip-delete-this-directory.txt\r\n",
      "\r\n",
      "# Unit test / coverage reports\r\n",
      "htmlcov/\r\n",
      ".tox/\r\n",
      ".nox/\r\n",
      ".coverage\r\n",
      ".coverage.*\r\n",
      ".cache\r\n",
      "nosetests.xml\r\n",
      "coverage.xml\r\n",
      "*.cover\r\n",
      "*.py,cover\r\n",
      ".hypothesis/\r\n",
      ".pytest_cache/\r\n",
      "\r\n",
      "# Translations\r\n",
      "*.mo\r\n",
      "*.pot\r\n",
      "\r\n",
      "# Django stuff:\r\n",
      "*.log\r\n",
      "local_settings.py\r\n",
      "db.sqlite3\r\n",
      "db.sqlite3-journal\r\n",
      "\r\n",
      "# Flask stuff:\r\n",
      "instance/\r\n",
      ".webassets-cache\r\n",
      "\r\n",
      "# Scrapy stuff:\r\n",
      ".scrapy\r\n",
      "\r\n",
      "# Sphinx documentation\r\n",
      "docs/_build/\r\n",
      "\r\n",
      "# PyBuilder\r\n",
      "target/\r\n",
      "\r\n",
      "# Jupyter Notebook\r\n",
      ".ipynb_checkpoints\r\n",
      "\r\n",
      "# IPython\r\n",
      "profile_default/\r\n",
      "ipython_config.py\r\n",
      "\r\n",
      "# pyenv\r\n",
      ".python-version\r\n",
      "\r\n",
      "# pipenv\r\n",
      "#   According to pypa/pipenv#598, it is recommended to include Pipfile.lock in version control.\r\n",
      "#   However, in case of collaboration, if having platform-specific dependencies or dependencies\r\n",
      "#   having no cross-platform support, pipenv may install dependencies that don't work, or not\r\n",
      "#   install all needed dependencies.\r\n",
      "#Pipfile.lock\r\n",
      "\r\n",
      "# PEP 582; used by e.g. github.com/David-OConnor/pyflow\r\n",
      "__pypackages__/\r\n",
      "\r\n",
      "# Celery stuff\r\n",
      "celerybeat-schedule\r\n",
      "celerybeat.pid\r\n",
      "\r\n",
      "# SageMath parsed files\r\n",
      "*.sage.py\r\n",
      "\r\n",
      "# Environments\r\n",
      ".env\r\n",
      ".venv\r\n",
      "env/\r\n",
      "venv/\r\n",
      "ENV/\r\n",
      "env.bak/\r\n",
      "venv.bak/\r\n",
      "\r\n",
      "# Spyder project settings\r\n",
      ".spyderproject\r\n",
      ".spyproject\r\n",
      "\r\n",
      "# Rope project settings\r\n",
      ".ropeproject\r\n",
      "\r\n",
      "# mkdocs documentation\r\n",
      "/site\r\n",
      "\r\n",
      "# mypy\r\n",
      ".mypy_cache/\r\n",
      ".dmypy.json\r\n",
      "dmypy.json\r\n",
      "\r\n",
      "# Pyre type checker\r\n",
      ".pyre/\r\n",
      "chicago.csv seattle.csv\r\n"
     ]
    }
   ],
   "source": [
    "!cat .gitignore"
   ]
  },
  {
   "cell_type": "code",
   "execution_count": 56,
   "id": "ac050e14",
   "metadata": {},
   "outputs": [
    {
     "name": "stdout",
     "output_type": "stream",
     "text": [
      "On branch main\r\n",
      "Your branch is up to date with 'origin/main'.\r\n",
      "\r\n",
      "Changes not staged for commit:\r\n",
      "  (use \"git add <file>...\" to update what will be committed)\r\n",
      "  (use \"git checkout -- <file>...\" to discard changes in working directory)\r\n",
      "\r\n",
      "\t\u001b[31mmodified:   .gitignore\u001b[m\r\n",
      "\r\n",
      "Untracked files:\r\n",
      "  (use \"git add <file>...\" to include in what will be committed)\r\n",
      "\r\n",
      "\t\u001b[31m3D CNN for Crime Classification (Binary Classification).ipynb\u001b[m\r\n",
      "\t\u001b[31mBinary Classification Data Preparation.ipynb\u001b[m\r\n",
      "\t\u001b[31mchicago.csv\u001b[m\r\n",
      "\t\u001b[31mseattle.csv\u001b[m\r\n",
      "\r\n",
      "no changes added to commit (use \"git add\" and/or \"git commit -a\")\r\n"
     ]
    }
   ],
   "source": [
    "!git status"
   ]
  },
  {
   "cell_type": "code",
   "execution_count": 62,
   "id": "c481f84a",
   "metadata": {},
   "outputs": [
    {
     "name": "stdout",
     "output_type": "stream",
     "text": [
      "On branch main\r\n",
      "Your branch is ahead of 'origin/main' by 1 commit.\r\n",
      "  (use \"git push\" to publish your local commits)\r\n",
      "\r\n",
      "Changes to be committed:\r\n",
      "  (use \"git reset HEAD <file>...\" to unstage)\r\n",
      "\r\n",
      "\t\u001b[32mnew file:   3D CNN for Crime Classification (Binary Classification).ipynb\u001b[m\r\n",
      "\t\u001b[32mnew file:   Binary Classification Data Preparation.ipynb\u001b[m\r\n",
      "\t\u001b[32mnew file:   chicago.csv\u001b[m\r\n",
      "\t\u001b[32mnew file:   seattle.csv\u001b[m\r\n",
      "\r\n"
     ]
    }
   ],
   "source": [
    "!git status"
   ]
  },
  {
   "cell_type": "code",
   "execution_count": 58,
   "id": "39b16542",
   "metadata": {},
   "outputs": [],
   "source": [
    "!git config --global user.name \"Lloyd\""
   ]
  },
  {
   "cell_type": "code",
   "execution_count": 59,
   "id": "3a4824e6",
   "metadata": {},
   "outputs": [],
   "source": [
    "!git config --global user.email lloydmatereke23@gmail.com"
   ]
  },
  {
   "cell_type": "code",
   "execution_count": null,
   "id": "75c6d353",
   "metadata": {},
   "outputs": [],
   "source": []
  }
 ],
 "metadata": {
  "kernelspec": {
   "display_name": "Python 3 (ipykernel)",
   "language": "python",
   "name": "python3"
  },
  "language_info": {
   "codemirror_mode": {
    "name": "ipython",
    "version": 3
   },
   "file_extension": ".py",
   "mimetype": "text/x-python",
   "name": "python",
   "nbconvert_exporter": "python",
   "pygments_lexer": "ipython3",
   "version": "3.9.7"
  }
 },
 "nbformat": 4,
 "nbformat_minor": 5
}
