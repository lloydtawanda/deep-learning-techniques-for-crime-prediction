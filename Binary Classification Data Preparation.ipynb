{
 "cells": [
  {
   "cell_type": "markdown",
   "id": "358e2241",
   "metadata": {},
   "source": [
    "### Chicago Crime Dataset"
   ]
  },
  {
   "cell_type": "code",
   "execution_count": 6,
   "id": "e7fa084d",
   "metadata": {},
   "outputs": [],
   "source": [
    "import pandas as pd"
   ]
  },
  {
   "cell_type": "code",
   "execution_count": 47,
   "id": "1ac4cb45",
   "metadata": {},
   "outputs": [],
   "source": [
    "chicago_crime = pd.read_csv('chicago.csv')"
   ]
  },
  {
   "cell_type": "code",
   "execution_count": 48,
   "id": "dd82be52",
   "metadata": {},
   "outputs": [
    {
     "name": "stdout",
     "output_type": "stream",
     "text": [
      "<class 'pandas.core.frame.DataFrame'>\n",
      "RangeIndex: 7491320 entries, 0 to 7491319\n",
      "Data columns (total 22 columns):\n",
      " #   Column                Dtype  \n",
      "---  ------                -----  \n",
      " 0   ID                    int64  \n",
      " 1   Case Number           object \n",
      " 2   Date                  object \n",
      " 3   Block                 object \n",
      " 4   IUCR                  object \n",
      " 5   Primary Type          object \n",
      " 6   Description           object \n",
      " 7   Location Description  object \n",
      " 8   Arrest                bool   \n",
      " 9   Domestic              bool   \n",
      " 10  Beat                  int64  \n",
      " 11  District              float64\n",
      " 12  Ward                  float64\n",
      " 13  Community Area        float64\n",
      " 14  FBI Code              object \n",
      " 15  X Coordinate          float64\n",
      " 16  Y Coordinate          float64\n",
      " 17  Year                  int64  \n",
      " 18  Updated On            object \n",
      " 19  Latitude              float64\n",
      " 20  Longitude             float64\n",
      " 21  Location              object \n",
      "dtypes: bool(2), float64(7), int64(3), object(10)\n",
      "memory usage: 1.1+ GB\n"
     ]
    }
   ],
   "source": [
    "chicago_crime.info()"
   ]
  },
  {
   "cell_type": "code",
   "execution_count": 49,
   "id": "db02a140",
   "metadata": {},
   "outputs": [],
   "source": [
    "chicago_crime.Date = pd.to_datetime(chicago_crime.Date)"
   ]
  },
  {
   "cell_type": "code",
   "execution_count": 50,
   "id": "0bf7fcc4",
   "metadata": {},
   "outputs": [],
   "source": [
    "chicago_crime = chicago_crime[chicago_crime['Date'].dt.year >= 2008]"
   ]
  },
  {
   "cell_type": "code",
   "execution_count": 42,
   "id": "a7fe376a",
   "metadata": {},
   "outputs": [
    {
     "data": {
      "text/plain": [
       "(4234351, 22)"
      ]
     },
     "execution_count": 42,
     "metadata": {},
     "output_type": "execute_result"
    }
   ],
   "source": [
    "chicago_crime.shape"
   ]
  },
  {
   "cell_type": "code",
   "execution_count": 43,
   "id": "9f673747",
   "metadata": {},
   "outputs": [
    {
     "data": {
      "text/plain": [
       "array(['BATTERY', 'THEFT', 'NARCOTICS', 'ASSAULT', 'BURGLARY', 'ROBBERY',\n",
       "       'DECEPTIVE PRACTICE', 'OTHER OFFENSE', 'CRIMINAL DAMAGE',\n",
       "       'WEAPONS VIOLATION', 'CRIMINAL TRESPASS', 'MOTOR VEHICLE THEFT',\n",
       "       'SEX OFFENSE', 'INTERFERENCE WITH PUBLIC OFFICER',\n",
       "       'OFFENSE INVOLVING CHILDREN', 'PUBLIC PEACE VIOLATION',\n",
       "       'PROSTITUTION', 'GAMBLING', 'CRIM SEXUAL ASSAULT',\n",
       "       'LIQUOR LAW VIOLATION', 'CRIMINAL SEXUAL ASSAULT', 'ARSON',\n",
       "       'STALKING', 'KIDNAPPING', 'INTIMIDATION',\n",
       "       'CONCEALED CARRY LICENSE VIOLATION', 'NON - CRIMINAL',\n",
       "       'HUMAN TRAFFICKING', 'OBSCENITY', 'PUBLIC INDECENCY',\n",
       "       'OTHER NARCOTIC VIOLATION', 'NON-CRIMINAL', 'HOMICIDE',\n",
       "       'NON-CRIMINAL (SUBJECT SPECIFIED)', 'RITUALISM'], dtype=object)"
      ]
     },
     "execution_count": 43,
     "metadata": {},
     "output_type": "execute_result"
    }
   ],
   "source": [
    "chicago_crime['Primary Type'].unique()"
   ]
  },
  {
   "cell_type": "code",
   "execution_count": 46,
   "id": "bc74fe9f",
   "metadata": {},
   "outputs": [],
   "source": [
    "chicago_theft_crimes = chicago_crime['Primary Type'].apply(lambda x: 1 if x ==  'THEFT' else 0)"
   ]
  },
  {
   "cell_type": "code",
   "execution_count": null,
   "id": "80668ce5",
   "metadata": {},
   "outputs": [],
   "source": [
    "chicago_battery_crimes = chicago_crime['Primary Type'].apply(lambda x: 1 if x ==  'THEFT' else 0)"
   ]
  },
  {
   "cell_type": "code",
   "execution_count": null,
   "id": "8dd38c67",
   "metadata": {},
   "outputs": [],
   "source": [
    "chicago_criminal_damage_crimes = chicago_crime['Primary Type'].apply(lambda x: 1 if x ==  'THEFT' else 0)"
   ]
  },
  {
   "cell_type": "markdown",
   "id": "941f5a20",
   "metadata": {},
   "source": [
    "### Seattle Crime Dataset"
   ]
  },
  {
   "cell_type": "code",
   "execution_count": 16,
   "id": "d91089fb",
   "metadata": {},
   "outputs": [],
   "source": [
    "seattle_crime = pd.read_csv('seattle.csv')"
   ]
  },
  {
   "cell_type": "code",
   "execution_count": 17,
   "id": "84f9e96e",
   "metadata": {},
   "outputs": [
    {
     "name": "stdout",
     "output_type": "stream",
     "text": [
      "<class 'pandas.core.frame.DataFrame'>\n",
      "RangeIndex: 961128 entries, 0 to 961127\n",
      "Data columns (total 17 columns):\n",
      " #   Column                  Non-Null Count   Dtype  \n",
      "---  ------                  --------------   -----  \n",
      " 0   Report Number           961128 non-null  object \n",
      " 1   Offense ID              961128 non-null  int64  \n",
      " 2   Offense Start DateTime  960173 non-null  object \n",
      " 3   Offense End DateTime    530226 non-null  object \n",
      " 4   Report DateTime         961128 non-null  object \n",
      " 5   Group A B               961128 non-null  object \n",
      " 6   Crime Against Category  961128 non-null  object \n",
      " 7   Offense Parent Group    961128 non-null  object \n",
      " 8   Offense                 961128 non-null  object \n",
      " 9   Offense Code            961128 non-null  object \n",
      " 10  Precinct                961124 non-null  object \n",
      " 11  Sector                  961126 non-null  object \n",
      " 12  Beat                    961126 non-null  object \n",
      " 13  MCPP                    961125 non-null  object \n",
      " 14  100 Block Address       923182 non-null  object \n",
      " 15  Longitude               961128 non-null  float64\n",
      " 16  Latitude                961128 non-null  float64\n",
      "dtypes: float64(2), int64(1), object(14)\n",
      "memory usage: 124.7+ MB\n"
     ]
    }
   ],
   "source": [
    "seattle_crime.info()"
   ]
  },
  {
   "cell_type": "code",
   "execution_count": 18,
   "id": "4b6fcd7f",
   "metadata": {},
   "outputs": [
    {
     "name": "stderr",
     "output_type": "stream",
     "text": [
      "/home/ec2-user/anaconda3/envs/tensorflow2_p36/lib/python3.6/site-packages/ipykernel/__main__.py:1: UserWarning: Pandas doesn't allow columns to be created via a new attribute name - see https://pandas.pydata.org/pandas-docs/stable/indexing.html#attribute-access\n",
      "  if __name__ == '__main__':\n"
     ]
    }
   ],
   "source": [
    "seattle_crime.Date = pd.to_datetime(seattle_crime['Report DateTime'])"
   ]
  },
  {
   "cell_type": "code",
   "execution_count": 30,
   "id": "beca36bc",
   "metadata": {},
   "outputs": [],
   "source": [
    "seattle_crime_report_dates = seattle_crime['Report DateTime'].tolist()"
   ]
  },
  {
   "cell_type": "code",
   "execution_count": 32,
   "id": "0a37869f",
   "metadata": {},
   "outputs": [
    {
     "data": {
      "text/plain": [
       "['12/31/2021 12:56:55 AM', '01/01/2008 01:00:00 AM']"
      ]
     },
     "execution_count": 32,
     "metadata": {},
     "output_type": "execute_result"
    }
   ],
   "source": [
    "seattle_crime_report_dates.sort(reverse=True)\n",
    "seattle_crime_report_range = [seattle_crime_report_dates[0], seattle_crime_report_dates[-1]]\n",
    "seattle_crime_report_range"
   ]
  },
  {
   "cell_type": "code",
   "execution_count": 33,
   "id": "e292202c",
   "metadata": {},
   "outputs": [
    {
     "data": {
      "text/plain": [
       "961128"
      ]
     },
     "execution_count": 33,
     "metadata": {},
     "output_type": "execute_result"
    }
   ],
   "source": [
    "len(seattle_crime_report_dates)"
   ]
  },
  {
   "cell_type": "code",
   "execution_count": 54,
   "id": "0ffa47e9",
   "metadata": {},
   "outputs": [],
   "source": [
    "!echo *.csv >> .gitignore\n",
    "\n"
   ]
  },
  {
   "cell_type": "code",
   "execution_count": 55,
   "id": "999fc8d4",
   "metadata": {},
   "outputs": [
    {
     "name": "stdout",
     "output_type": "stream",
     "text": [
      "# Byte-compiled / optimized / DLL files\r\n",
      "__pycache__/\r\n",
      "*.py[cod]\r\n",
      "*$py.class\r\n",
      "\r\n",
      "# C extensions\r\n",
      "*.so\r\n",
      "\r\n",
      "# Distribution / packaging\r\n",
      ".Python\r\n",
      "build/\r\n",
      "develop-eggs/\r\n",
      "dist/\r\n",
      "downloads/\r\n",
      "eggs/\r\n",
      ".eggs/\r\n",
      "lib/\r\n",
      "lib64/\r\n",
      "parts/\r\n",
      "sdist/\r\n",
      "var/\r\n",
      "wheels/\r\n",
      "pip-wheel-metadata/\r\n",
      "share/python-wheels/\r\n",
      "*.egg-info/\r\n",
      ".installed.cfg\r\n",
      "*.egg\r\n",
      "MANIFEST\r\n",
      "\r\n",
      "# PyInstaller\r\n",
      "#  Usually these files are written by a python script from a template\r\n",
      "#  before PyInstaller builds the exe, so as to inject date/other infos into it.\r\n",
      "*.manifest\r\n",
      "*.spec\r\n",
      "\r\n",
      "# Installer logs\r\n",
      "pip-log.txt\r\n",
      "pip-delete-this-directory.txt\r\n",
      "\r\n",
      "# Unit test / coverage reports\r\n",
      "htmlcov/\r\n",
      ".tox/\r\n",
      ".nox/\r\n",
      ".coverage\r\n",
      ".coverage.*\r\n",
      ".cache\r\n",
      "nosetests.xml\r\n",
      "coverage.xml\r\n",
      "*.cover\r\n",
      "*.py,cover\r\n",
      ".hypothesis/\r\n",
      ".pytest_cache/\r\n",
      "\r\n",
      "# Translations\r\n",
      "*.mo\r\n",
      "*.pot\r\n",
      "\r\n",
      "# Django stuff:\r\n",
      "*.log\r\n",
      "local_settings.py\r\n",
      "db.sqlite3\r\n",
      "db.sqlite3-journal\r\n",
      "\r\n",
      "# Flask stuff:\r\n",
      "instance/\r\n",
      ".webassets-cache\r\n",
      "\r\n",
      "# Scrapy stuff:\r\n",
      ".scrapy\r\n",
      "\r\n",
      "# Sphinx documentation\r\n",
      "docs/_build/\r\n",
      "\r\n",
      "# PyBuilder\r\n",
      "target/\r\n",
      "\r\n",
      "# Jupyter Notebook\r\n",
      ".ipynb_checkpoints\r\n",
      "\r\n",
      "# IPython\r\n",
      "profile_default/\r\n",
      "ipython_config.py\r\n",
      "\r\n",
      "# pyenv\r\n",
      ".python-version\r\n",
      "\r\n",
      "# pipenv\r\n",
      "#   According to pypa/pipenv#598, it is recommended to include Pipfile.lock in version control.\r\n",
      "#   However, in case of collaboration, if having platform-specific dependencies or dependencies\r\n",
      "#   having no cross-platform support, pipenv may install dependencies that don't work, or not\r\n",
      "#   install all needed dependencies.\r\n",
      "#Pipfile.lock\r\n",
      "\r\n",
      "# PEP 582; used by e.g. github.com/David-OConnor/pyflow\r\n",
      "__pypackages__/\r\n",
      "\r\n",
      "# Celery stuff\r\n",
      "celerybeat-schedule\r\n",
      "celerybeat.pid\r\n",
      "\r\n",
      "# SageMath parsed files\r\n",
      "*.sage.py\r\n",
      "\r\n",
      "# Environments\r\n",
      ".env\r\n",
      ".venv\r\n",
      "env/\r\n",
      "venv/\r\n",
      "ENV/\r\n",
      "env.bak/\r\n",
      "venv.bak/\r\n",
      "\r\n",
      "# Spyder project settings\r\n",
      ".spyderproject\r\n",
      ".spyproject\r\n",
      "\r\n",
      "# Rope project settings\r\n",
      ".ropeproject\r\n",
      "\r\n",
      "# mkdocs documentation\r\n",
      "/site\r\n",
      "\r\n",
      "# mypy\r\n",
      ".mypy_cache/\r\n",
      ".dmypy.json\r\n",
      "dmypy.json\r\n",
      "\r\n",
      "# Pyre type checker\r\n",
      ".pyre/\r\n",
      "chicago.csv seattle.csv\r\n"
     ]
    }
   ],
   "source": [
    "!cat .gitignore"
   ]
  },
  {
   "cell_type": "code",
   "execution_count": 56,
   "id": "ac050e14",
   "metadata": {},
   "outputs": [
    {
     "name": "stdout",
     "output_type": "stream",
     "text": [
      "On branch main\r\n",
      "Your branch is up to date with 'origin/main'.\r\n",
      "\r\n",
      "Changes not staged for commit:\r\n",
      "  (use \"git add <file>...\" to update what will be committed)\r\n",
      "  (use \"git checkout -- <file>...\" to discard changes in working directory)\r\n",
      "\r\n",
      "\t\u001b[31mmodified:   .gitignore\u001b[m\r\n",
      "\r\n",
      "Untracked files:\r\n",
      "  (use \"git add <file>...\" to include in what will be committed)\r\n",
      "\r\n",
      "\t\u001b[31m3D CNN for Crime Classification (Binary Classification).ipynb\u001b[m\r\n",
      "\t\u001b[31mBinary Classification Data Preparation.ipynb\u001b[m\r\n",
      "\t\u001b[31mchicago.csv\u001b[m\r\n",
      "\t\u001b[31mseattle.csv\u001b[m\r\n",
      "\r\n",
      "no changes added to commit (use \"git add\" and/or \"git commit -a\")\r\n"
     ]
    }
   ],
   "source": [
    "!git status"
   ]
  },
  {
   "cell_type": "code",
   "execution_count": 62,
   "id": "c481f84a",
   "metadata": {},
   "outputs": [
    {
     "name": "stdout",
     "output_type": "stream",
     "text": [
      "On branch main\r\n",
      "Your branch is ahead of 'origin/main' by 1 commit.\r\n",
      "  (use \"git push\" to publish your local commits)\r\n",
      "\r\n",
      "Changes to be committed:\r\n",
      "  (use \"git reset HEAD <file>...\" to unstage)\r\n",
      "\r\n",
      "\t\u001b[32mnew file:   3D CNN for Crime Classification (Binary Classification).ipynb\u001b[m\r\n",
      "\t\u001b[32mnew file:   Binary Classification Data Preparation.ipynb\u001b[m\r\n",
      "\t\u001b[32mnew file:   chicago.csv\u001b[m\r\n",
      "\t\u001b[32mnew file:   seattle.csv\u001b[m\r\n",
      "\r\n"
     ]
    }
   ],
   "source": [
    "!git status"
   ]
  },
  {
   "cell_type": "code",
   "execution_count": 58,
   "id": "39b16542",
   "metadata": {},
   "outputs": [],
   "source": [
    "!git config --global user.name \"Lloyd\""
   ]
  },
  {
   "cell_type": "code",
   "execution_count": 59,
   "id": "3a4824e6",
   "metadata": {},
   "outputs": [],
   "source": [
    "!git config --global user.email lloydmatereke23@gmail.com"
   ]
  },
  {
   "cell_type": "code",
   "execution_count": null,
   "id": "75c6d353",
   "metadata": {},
   "outputs": [],
   "source": []
  }
 ],
 "metadata": {
  "kernelspec": {
   "display_name": "conda_tensorflow2_p36",
   "language": "python",
   "name": "conda_tensorflow2_p36"
  },
  "language_info": {
   "codemirror_mode": {
    "name": "ipython",
    "version": 3
   },
   "file_extension": ".py",
   "mimetype": "text/x-python",
   "name": "python",
   "nbconvert_exporter": "python",
   "pygments_lexer": "ipython3",
   "version": "3.6.13"
  }
 },
 "nbformat": 4,
 "nbformat_minor": 5
}
