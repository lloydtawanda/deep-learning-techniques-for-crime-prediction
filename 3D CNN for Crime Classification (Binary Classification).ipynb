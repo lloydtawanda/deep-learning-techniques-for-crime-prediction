{
 "cells": [
  {
   "cell_type": "code",
   "execution_count": 2,
   "metadata": {},
   "outputs": [
    {
     "name": "stderr",
     "output_type": "stream",
     "text": [
      "Using TensorFlow backend.\n"
     ]
    },
    {
     "data": {
      "text/html": [
       "        <script type=\"text/javascript\">\n",
       "        window.PlotlyConfig = {MathJaxConfig: 'local'};\n",
       "        if (window.MathJax) {MathJax.Hub.Config({SVG: {font: \"STIX-Web\"}});}\n",
       "        if (typeof require !== 'undefined') {\n",
       "        require.undef(\"plotly\");\n",
       "        requirejs.config({\n",
       "            paths: {\n",
       "                'plotly': ['https://cdn.plot.ly/plotly-2.6.3.min']\n",
       "            }\n",
       "        });\n",
       "        require(['plotly'], function(Plotly) {\n",
       "            window._Plotly = Plotly;\n",
       "        });\n",
       "        }\n",
       "        </script>\n",
       "        "
      ]
     },
     "metadata": {},
     "output_type": "display_data"
    }
   ],
   "source": [
    "import pandas as pd\n",
    "import numpy as np\n",
    "import time\n",
    "import math\n",
    "import tensorflow as tf\n",
    "from keras.layers import Conv3D, MaxPool3D, Flatten, Dense\n",
    "from keras.layers import Dropout, Input, BatchNormalization\n",
    "from sklearn.metrics import confusion_matrix, accuracy_score\n",
    "from plotly.offline import iplot, init_notebook_mode\n",
    "from keras.losses import categorical_crossentropy, sparse_categorical_crossentropy, binary_crossentropy\n",
    "from keras.optimizers import Adam\n",
    "import plotly.graph_objs as go\n",
    "from matplotlib import pyplot as plt\n",
    "from matplotlib.pyplot import cm\n",
    "from keras.models import Model\n",
    "import keras\n",
    "import keras.backend as K\n",
    "import h5py\n",
    "from sklearn.decomposition import PCA\n",
    "from sklearn.ensemble import RandomForestRegressor\n",
    "from IPython.display import SVG\n",
    "from keras.utils import model_to_dot\n",
    "from keras.utils import plot_model\n",
    "from sklearn.utils import shuffle\n",
    "\n",
    "init_notebook_mode(connected=True)\n",
    "%matplotlib inline"
   ]
  },
  {
   "cell_type": "markdown",
   "metadata": {},
   "source": [
    "### Data Preparation"
   ]
  },
  {
   "cell_type": "markdown",
   "metadata": {},
   "source": [
    "#### Chicago Crime Dataset"
   ]
  },
  {
   "cell_type": "code",
   "execution_count": null,
   "metadata": {},
   "outputs": [],
   "source": [
    "def generate_batches(l, n): \n",
    "    for i in range(0, len(l), n):  \n",
    "        yield l[i:i + n] \n",
    "        \n",
    "# (batch_size, days, lat_bin, lon_bin, crime_t)\n",
    "days = 30\n",
    "lat_b = 16\n",
    "lon_b = 16\n",
    "crime_t = 1\n",
    "\n",
    "chicago_crime = pd.read_csv('https://data.cityofchicago.org/api/views/ijzp-q8t2/rows.csv?accessType=DOWNLOAD')"
   ]
  },
  {
   "cell_type": "code",
   "execution_count": 11,
   "metadata": {},
   "outputs": [
    {
     "name": "stdout",
     "output_type": "stream",
     "text": [
      "<class 'pandas.core.frame.DataFrame'>\n",
      "RangeIndex: 7491320 entries, 0 to 7491319\n",
      "Data columns (total 22 columns):\n",
      " #   Column                Dtype  \n",
      "---  ------                -----  \n",
      " 0   ID                    int64  \n",
      " 1   Case Number           object \n",
      " 2   Date                  object \n",
      " 3   Block                 object \n",
      " 4   IUCR                  object \n",
      " 5   Primary Type          object \n",
      " 6   Description           object \n",
      " 7   Location Description  object \n",
      " 8   Arrest                bool   \n",
      " 9   Domestic              bool   \n",
      " 10  Beat                  int64  \n",
      " 11  District              float64\n",
      " 12  Ward                  float64\n",
      " 13  Community Area        float64\n",
      " 14  FBI Code              object \n",
      " 15  X Coordinate          float64\n",
      " 16  Y Coordinate          float64\n",
      " 17  Year                  int64  \n",
      " 18  Updated On            object \n",
      " 19  Latitude              float64\n",
      " 20  Longitude             float64\n",
      " 21  Location              object \n",
      "dtypes: bool(2), float64(7), int64(3), object(10)\n",
      "memory usage: 1.1+ GB\n"
     ]
    }
   ],
   "source": [
    "chicago_crime.info()"
   ]
  },
  {
   "cell_type": "code",
   "execution_count": 12,
   "metadata": {},
   "outputs": [],
   "source": [
    "chicago_crime.Date = pd.to_datetime(chicago_crime.Date)"
   ]
  },
  {
   "cell_type": "code",
   "execution_count": 9,
   "metadata": {},
   "outputs": [
    {
     "data": {
      "text/html": [
       "<div>\n",
       "<style scoped>\n",
       "    .dataframe tbody tr th:only-of-type {\n",
       "        vertical-align: middle;\n",
       "    }\n",
       "\n",
       "    .dataframe tbody tr th {\n",
       "        vertical-align: top;\n",
       "    }\n",
       "\n",
       "    .dataframe thead th {\n",
       "        text-align: right;\n",
       "    }\n",
       "</style>\n",
       "<table border=\"1\" class=\"dataframe\">\n",
       "  <thead>\n",
       "    <tr style=\"text-align: right;\">\n",
       "      <th></th>\n",
       "      <th>ID</th>\n",
       "      <th>Case Number</th>\n",
       "      <th>Date</th>\n",
       "      <th>Block</th>\n",
       "      <th>IUCR</th>\n",
       "      <th>Primary Type</th>\n",
       "      <th>Description</th>\n",
       "      <th>Location Description</th>\n",
       "      <th>Arrest</th>\n",
       "      <th>Domestic</th>\n",
       "      <th>...</th>\n",
       "      <th>Ward</th>\n",
       "      <th>Community Area</th>\n",
       "      <th>FBI Code</th>\n",
       "      <th>X Coordinate</th>\n",
       "      <th>Y Coordinate</th>\n",
       "      <th>Year</th>\n",
       "      <th>Updated On</th>\n",
       "      <th>Latitude</th>\n",
       "      <th>Longitude</th>\n",
       "      <th>Location</th>\n",
       "    </tr>\n",
       "  </thead>\n",
       "  <tbody>\n",
       "    <tr>\n",
       "      <th>260319</th>\n",
       "      <td>12312332</td>\n",
       "      <td>JE165297</td>\n",
       "      <td>2019-01-01</td>\n",
       "      <td>009XX W 76TH ST</td>\n",
       "      <td>0266</td>\n",
       "      <td>CRIMINAL SEXUAL ASSAULT</td>\n",
       "      <td>PREDATORY</td>\n",
       "      <td>RESIDENCE</td>\n",
       "      <td>False</td>\n",
       "      <td>False</td>\n",
       "      <td>...</td>\n",
       "      <td>17.0</td>\n",
       "      <td>71</td>\n",
       "      <td>02</td>\n",
       "      <td>1174671.0</td>\n",
       "      <td>1877106.0</td>\n",
       "      <td>2019</td>\n",
       "      <td>04/29/2021 04:49:22 PM</td>\n",
       "      <td>41.818171</td>\n",
       "      <td>-87.634761</td>\n",
       "      <td>(41.818171324, -87.634760982)</td>\n",
       "    </tr>\n",
       "    <tr>\n",
       "      <th>260732</th>\n",
       "      <td>12499305</td>\n",
       "      <td>JE393359</td>\n",
       "      <td>2019-01-01</td>\n",
       "      <td>026XX S CALIFORNIA AVE</td>\n",
       "      <td>1140</td>\n",
       "      <td>DECEPTIVE PRACTICE</td>\n",
       "      <td>EMBEZZLEMENT</td>\n",
       "      <td>GOVERNMENT BUILDING / PROPERTY</td>\n",
       "      <td>False</td>\n",
       "      <td>False</td>\n",
       "      <td>...</td>\n",
       "      <td>24.0</td>\n",
       "      <td>30</td>\n",
       "      <td>12</td>\n",
       "      <td>NaN</td>\n",
       "      <td>NaN</td>\n",
       "      <td>2019</td>\n",
       "      <td>10/02/2021 04:47:29 PM</td>\n",
       "      <td>NaN</td>\n",
       "      <td>NaN</td>\n",
       "      <td>NaN</td>\n",
       "    </tr>\n",
       "    <tr>\n",
       "      <th>14509</th>\n",
       "      <td>11566200</td>\n",
       "      <td>JC116315</td>\n",
       "      <td>2019-01-01</td>\n",
       "      <td>072XX S EAST END AVE</td>\n",
       "      <td>0320</td>\n",
       "      <td>ROBBERY</td>\n",
       "      <td>STRONGARM - NO WEAPON</td>\n",
       "      <td>APARTMENT</td>\n",
       "      <td>False</td>\n",
       "      <td>True</td>\n",
       "      <td>...</td>\n",
       "      <td>7.0</td>\n",
       "      <td>43</td>\n",
       "      <td>03</td>\n",
       "      <td>1188788.0</td>\n",
       "      <td>1857344.0</td>\n",
       "      <td>2019</td>\n",
       "      <td>01/18/2019 09:37:14 AM</td>\n",
       "      <td>41.763616</td>\n",
       "      <td>-87.583608</td>\n",
       "      <td>(41.763616341, -87.58360812)</td>\n",
       "    </tr>\n",
       "    <tr>\n",
       "      <th>260739</th>\n",
       "      <td>11737723</td>\n",
       "      <td>JC323962</td>\n",
       "      <td>2019-01-01</td>\n",
       "      <td>028XX S ST LOUIS AVE</td>\n",
       "      <td>1754</td>\n",
       "      <td>OFFENSE INVOLVING CHILDREN</td>\n",
       "      <td>AGGRAVATED SEXUAL ASSAULT OF CHILD BY FAMILY M...</td>\n",
       "      <td>APARTMENT</td>\n",
       "      <td>False</td>\n",
       "      <td>True</td>\n",
       "      <td>...</td>\n",
       "      <td>22.0</td>\n",
       "      <td>30</td>\n",
       "      <td>02</td>\n",
       "      <td>1153496.0</td>\n",
       "      <td>1884904.0</td>\n",
       "      <td>2019</td>\n",
       "      <td>10/13/2021 04:47:43 PM</td>\n",
       "      <td>41.840016</td>\n",
       "      <td>-87.712231</td>\n",
       "      <td>(41.840016176, -87.712231415)</td>\n",
       "    </tr>\n",
       "    <tr>\n",
       "      <th>253039</th>\n",
       "      <td>11968763</td>\n",
       "      <td>JD136487</td>\n",
       "      <td>2019-01-01</td>\n",
       "      <td>020XX N KOSTNER AVE</td>\n",
       "      <td>0810</td>\n",
       "      <td>THEFT</td>\n",
       "      <td>OVER $500</td>\n",
       "      <td>APARTMENT</td>\n",
       "      <td>False</td>\n",
       "      <td>True</td>\n",
       "      <td>...</td>\n",
       "      <td>35.0</td>\n",
       "      <td>20</td>\n",
       "      <td>06</td>\n",
       "      <td>1146722.0</td>\n",
       "      <td>1913364.0</td>\n",
       "      <td>2019</td>\n",
       "      <td>02/05/2020 03:52:05 PM</td>\n",
       "      <td>41.918245</td>\n",
       "      <td>-87.736363</td>\n",
       "      <td>(41.918245482, -87.736363)</td>\n",
       "    </tr>\n",
       "  </tbody>\n",
       "</table>\n",
       "<p>5 rows × 22 columns</p>\n",
       "</div>"
      ],
      "text/plain": [
       "              ID Case Number       Date                   Block  IUCR  \\\n",
       "260319  12312332    JE165297 2019-01-01         009XX W 76TH ST  0266   \n",
       "260732  12499305    JE393359 2019-01-01  026XX S CALIFORNIA AVE  1140   \n",
       "14509   11566200    JC116315 2019-01-01    072XX S EAST END AVE  0320   \n",
       "260739  11737723    JC323962 2019-01-01    028XX S ST LOUIS AVE  1754   \n",
       "253039  11968763    JD136487 2019-01-01     020XX N KOSTNER AVE  0810   \n",
       "\n",
       "                      Primary Type  \\\n",
       "260319     CRIMINAL SEXUAL ASSAULT   \n",
       "260732          DECEPTIVE PRACTICE   \n",
       "14509                      ROBBERY   \n",
       "260739  OFFENSE INVOLVING CHILDREN   \n",
       "253039                       THEFT   \n",
       "\n",
       "                                              Description  \\\n",
       "260319                                          PREDATORY   \n",
       "260732                                       EMBEZZLEMENT   \n",
       "14509                               STRONGARM - NO WEAPON   \n",
       "260739  AGGRAVATED SEXUAL ASSAULT OF CHILD BY FAMILY M...   \n",
       "253039                                          OVER $500   \n",
       "\n",
       "                  Location Description  Arrest  Domestic  ...  Ward  \\\n",
       "260319                       RESIDENCE   False     False  ...  17.0   \n",
       "260732  GOVERNMENT BUILDING / PROPERTY   False     False  ...  24.0   \n",
       "14509                        APARTMENT   False      True  ...   7.0   \n",
       "260739                       APARTMENT   False      True  ...  22.0   \n",
       "253039                       APARTMENT   False      True  ...  35.0   \n",
       "\n",
       "        Community Area  FBI Code  X Coordinate Y Coordinate  Year  \\\n",
       "260319              71        02     1174671.0    1877106.0  2019   \n",
       "260732              30        12           NaN          NaN  2019   \n",
       "14509               43        03     1188788.0    1857344.0  2019   \n",
       "260739              30        02     1153496.0    1884904.0  2019   \n",
       "253039              20        06     1146722.0    1913364.0  2019   \n",
       "\n",
       "                    Updated On   Latitude  Longitude  \\\n",
       "260319  04/29/2021 04:49:22 PM  41.818171 -87.634761   \n",
       "260732  10/02/2021 04:47:29 PM        NaN        NaN   \n",
       "14509   01/18/2019 09:37:14 AM  41.763616 -87.583608   \n",
       "260739  10/13/2021 04:47:43 PM  41.840016 -87.712231   \n",
       "253039  02/05/2020 03:52:05 PM  41.918245 -87.736363   \n",
       "\n",
       "                             Location  \n",
       "260319  (41.818171324, -87.634760982)  \n",
       "260732                            NaN  \n",
       "14509    (41.763616341, -87.58360812)  \n",
       "260739  (41.840016176, -87.712231415)  \n",
       "253039     (41.918245482, -87.736363)  \n",
       "\n",
       "[5 rows x 22 columns]"
      ]
     },
     "execution_count": 9,
     "metadata": {},
     "output_type": "execute_result"
    }
   ],
   "source": [
    "chicago_crime.sort_values(by=\"Date\").head()"
   ]
  },
  {
   "cell_type": "code",
   "execution_count": 7,
   "metadata": {},
   "outputs": [],
   "source": [
    "chicago_crime = chicago_crime[chicago_crime['Date'].dt.year >= 2017]"
   ]
  },
  {
   "cell_type": "code",
   "execution_count": 8,
   "metadata": {},
   "outputs": [
    {
     "data": {
      "text/plain": [
       "(127118, 22)"
      ]
     },
     "execution_count": 8,
     "metadata": {},
     "output_type": "execute_result"
    }
   ],
   "source": [
    "chicago_crime.shape"
   ]
  },
  {
   "cell_type": "code",
   "execution_count": 9,
   "metadata": {},
   "outputs": [
    {
     "data": {
      "text/plain": [
       "(22129, 4)"
      ]
     },
     "execution_count": 9,
     "metadata": {},
     "output_type": "execute_result"
    }
   ],
   "source": [
    "chicago_crime.dropna(inplace=True)\n",
    "chicago_crime[\"X\"] = pd.cut(chicago_crime[\"Latitude\"], lat_b, labels=False, retbins=False).fillna(0).astype(int)\n",
    "chicago_crime[\"Y\"] = pd.cut(chicago_crime[\"Longitude\"], lon_b, labels=False, retbins=False).fillna(0).astype(int)\n",
    "chicago_crime['Primary Type'] = chicago_crime['Primary Type'].apply(lambda x: 1 if x ==  'BATTERY' else 0)\n",
    "chicago_crime = chicago_crime[['Date', 'X', 'Y', 'Primary Type']]\n",
    "chicago_crime.sort_values(by=['Primary Type'], ascending=False, inplace=True)\n",
    "chicago_crime.drop_duplicates(subset=['Date'], inplace=True)\n",
    "chicago_crime[chicago_crime['Primary Type'] == 1].shape"
   ]
  },
  {
   "cell_type": "code",
   "execution_count": 10,
   "metadata": {},
   "outputs": [
    {
     "name": "stdout",
     "output_type": "stream",
     "text": [
      "Batches Generated: 2218 Percentage Generated: 100% Batches Remaining: 0   Time Elapsed: 0 min\n"
     ]
    }
   ],
   "source": [
    "import time\n",
    "import sys\n",
    "\n",
    "start = time.time()\n",
    "\n",
    "inputs = []\n",
    "outputs = []\n",
    "batches = list(generate_batches([data for _, data in chicago_crime.iterrows()], days))\n",
    "\n",
    "for batch_number, batch in enumerate(batches):\n",
    "    \n",
    "    current = time.time()\n",
    "    print(f\"\\rBatches Generated: {batch_number + 1} Percentage Generated: {((batch_number + 1)*100)//len(batches)}% Batches Remaining: {len(batches) - (batch_number + 1)} {''}\",end=\"\")\n",
    "    sys.stdout.flush()\n",
    "    \n",
    "    features = np.zeros((days, lat_b, lon_b, crime_t))\n",
    "    for day, row in enumerate(batch): # Only one day in batch\n",
    "        features[day, row.X, row.Y] = 1\n",
    "        target = row['Primary Type']\n",
    "        inputs.append(features)\n",
    "        outputs.append(target)\n",
    "    \n",
    "print(f\"Time Elapsed: {int((current - start)//60)} min\")"
   ]
  },
  {
   "cell_type": "code",
   "execution_count": 11,
   "metadata": {},
   "outputs": [],
   "source": [
    "from sklearn.model_selection import train_test_split\n",
    "\n",
    "X_train = inputs\n",
    "y_train = outputs\n",
    "\n",
    "X_train = np.concatenate([np.expand_dims(s, axis=0) for s in X_train], axis=0)\n",
    "y_train = np.concatenate([np.expand_dims(s, axis=0) for s in y_train], axis=0)"
   ]
  },
  {
   "cell_type": "code",
   "execution_count": 12,
   "metadata": {},
   "outputs": [
    {
     "name": "stdout",
     "output_type": "stream",
     "text": [
      "X_train shape:  (66529, 30, 16, 16, 1)\n",
      "y_train shape:  (66529,)\n"
     ]
    }
   ],
   "source": [
    "print (\"X_train shape: \", X_train.shape)\n",
    "print (\"y_train shape: \", y_train.shape)"
   ]
  },
  {
   "cell_type": "code",
   "execution_count": 22,
   "metadata": {},
   "outputs": [
    {
     "name": "stdout",
     "output_type": "stream",
     "text": [
      "Stored 'X_train' (ndarray)\n",
      "Stored 'y_train' (ndarray)\n"
     ]
    }
   ],
   "source": [
    "%store X_train\n",
    "%store y_train"
   ]
  },
  {
   "cell_type": "code",
   "execution_count": 23,
   "metadata": {},
   "outputs": [
    {
     "name": "stdout",
     "output_type": "stream",
     "text": [
      "Stored 'days' (int)\n",
      "Stored 'lat_b' (int)\n",
      "Stored 'lon_b' (int)\n",
      "Stored 'crime_t' (int)\n"
     ]
    }
   ],
   "source": [
    "%store days\n",
    "%store lat_b\n",
    "%store lon_b\n",
    "%store crime_t"
   ]
  },
  {
   "cell_type": "code",
   "execution_count": 15,
   "metadata": {},
   "outputs": [],
   "source": [
    "def f1_score(y_true, y_pred):    \n",
    "    def recall_m(y_true, y_pred):\n",
    "        TP = K.sum(K.round(K.clip(y_true * y_pred, 0, 1)))\n",
    "        Positives = K.sum(K.round(K.clip(y_true, 0, 1)))\n",
    "        \n",
    "        recall = TP / (Positives+K.epsilon())    \n",
    "        return recall \n",
    "    \n",
    "    \n",
    "    def precision_m(y_true, y_pred):\n",
    "        TP = K.sum(K.round(K.clip(y_true * y_pred, 0, 1)))\n",
    "        Pred_Positives = K.sum(K.round(K.clip(y_pred, 0, 1)))\n",
    "    \n",
    "        precision = TP / (Pred_Positives+K.epsilon())\n",
    "        return precision \n",
    "    \n",
    "    precision, recall = precision_m(y_true, y_pred), recall_m(y_true, y_pred)\n",
    "    \n",
    "    return 2*((precision*recall)/(precision+recall+K.epsilon()))"
   ]
  },
  {
   "cell_type": "code",
   "execution_count": 16,
   "metadata": {},
   "outputs": [
    {
     "name": "stdout",
     "output_type": "stream",
     "text": [
      "WARNING:tensorflow:From C:\\Users\\TawandaMatereke\\anaconda3\\lib\\site-packages\\keras\\backend\\tensorflow_backend.py:422: The name tf.global_variables is deprecated. Please use tf.compat.v1.global_variables instead.\n",
      "\n",
      "Train on 53223 samples, validate on 13306 samples\n",
      "Epoch 1/10\n",
      "53223/53223 [==============================] - 75s 1ms/step - loss: 0.4965 - f1_score: 0.6899 - auc_3: 0.6924 - auc_2: 0.6038 - acc: 0.7590 - val_loss: 1.1764 - val_f1_score: 0.0000e+00 - val_auc_3: 0.7250 - val_auc_2: 0.5790 - val_acc: 0.5536\n",
      "Epoch 2/10\n",
      "53223/53223 [==============================] - 61s 1ms/step - loss: 0.3049 - f1_score: 0.8434 - auc_3: 0.7494 - auc_2: 0.5847 - acc: 0.8719 - val_loss: 1.2907 - val_f1_score: 0.0000e+00 - val_auc_3: 0.7778 - val_auc_2: 0.6126 - val_acc: 0.6641\n",
      "Epoch 3/10\n",
      "53223/53223 [==============================] - 63s 1ms/step - loss: 0.2011 - f1_score: 0.9052 - auc_3: 0.7973 - auc_2: 0.6320 - acc: 0.9226 - val_loss: 4.0280 - val_f1_score: 0.0000e+00 - val_auc_3: 0.8099 - val_auc_2: 0.6433 - val_acc: 0.5425\n",
      "Epoch 4/10\n",
      "53223/53223 [==============================] - 62s 1ms/step - loss: 0.1439 - f1_score: 0.9335 - auc_3: 0.8199 - auc_2: 0.6525 - acc: 0.9466 - val_loss: 2.7970 - val_f1_score: 0.0000e+00 - val_auc_3: 0.8298 - val_auc_2: 0.6639 - val_acc: 0.5989f1_score: 0.9369  - ETA: 38s - loss: 0.1564  - ETA: 16s - loss: 0.1500 - f1_s - ETA: 12s - loss: 0.1484 - f1_score: 0.9311 - auc_3: 0.8166 - auc_2: 0.6460 - acc:  - ETA: 12s - loss: 0.1485 - f - ETA: 3s - loss: 0.1466 -  - ETA: 1s - loss: 0.1448 - f1_score: 0.9330 - a\n",
      "Epoch 5/10\n",
      "53223/53223 [==============================] - 61s 1ms/step - loss: 0.1228 - f1_score: 0.9435 - auc_3: 0.8371 - auc_2: 0.6719 - acc: 0.9544 - val_loss: 4.4661 - val_f1_score: 0.0000e+00 - val_auc_3: 0.8430 - val_auc_2: 0.6782 - val_acc: 0.5493\n",
      "Epoch 6/10\n",
      "53223/53223 [==============================] - 61s 1ms/step - loss: 0.1094 - f1_score: 0.9509 - auc_3: 0.8478 - auc_2: 0.6832 - acc: 0.9610 - val_loss: 1.8753 - val_f1_score: 0.0000e+00 - val_auc_3: 0.8548 - val_auc_2: 0.6933 - val_acc: 0.7565\n",
      "Epoch 7/10\n",
      "53223/53223 [==============================] - 61s 1ms/step - loss: 0.0954 - f1_score: 0.9571 - auc_3: 0.8607 - auc_2: 0.7022 - acc: 0.9661 - val_loss: 4.1337 - val_f1_score: 0.0000e+00 - val_auc_3: 0.8639 - val_auc_2: 0.7054 - val_acc: 0.5538\n",
      "Epoch 8/10\n",
      "53223/53223 [==============================] - 61s 1ms/step - loss: 0.0904 - f1_score: 0.9612 - auc_3: 0.8666 - auc_2: 0.7081 - acc: 0.9693 - val_loss: 5.0544 - val_f1_score: 0.0000e+00 - val_auc_3: 0.8695 - val_auc_2: 0.7118 - val_acc: 0.5942\n",
      "Epoch 9/10\n",
      "53223/53223 [==============================] - 61s 1ms/step - loss: 0.0847 - f1_score: 0.9640 - auc_3: 0.8721 - auc_2: 0.7149 - acc: 0.9719 - val_loss: 6.8322 - val_f1_score: 0.0000e+00 - val_auc_3: 0.8730 - val_auc_2: 0.7146 - val_acc: 0.4411ore: 0.9649 - auc_3: 0.8706 - auc_2: - ETA: 16s - loss: 0.0834 - f1_score: 0.9653 - auc_3: 0.8707 - auc_ - ETA: 15s - loss: 0.0845 - f1_score: 0.9649 - auc_\n",
      "Epoch 10/10\n",
      "53223/53223 [==============================] - 65s 1ms/step - loss: 0.0861 - f1_score: 0.9644 - auc_3: 0.8741 - auc_2: 0.7149 - acc: 0.9716 - val_loss: 7.0816 - val_f1_score: 0.0000e+00 - val_auc_3: 0.8756 - val_auc_2: 0.7162 - val_acc: 0.5313.0746 - f - ETA: 33s - loss: 0 - ETA: 16s - loss: 0.0838 - f1_score: 0.9650 - auc_3: 0.8730 - ETA: 14s - loss: 0.0820 - f1_score: 0.9657 - auc_3: 0.8732 - auc_2: - ETA: 0s - loss: 0.0861 - f1_score: 0.9643 - auc_3: 0.8741 - auc_2: 0.7149 - acc: 0.\n",
      "Training took 10.0 minutes\n"
     ]
    }
   ],
   "source": [
    "## record start time\n",
    "start = time.time()\n",
    "\n",
    "## input layer\n",
    "input_layer = Input((days, lat_b, lon_b, crime_t))\n",
    "\n",
    "## convolutional layers\n",
    "conv_layer1 = Conv3D(filters=3, kernel_size=(3, 3, 3), activation='relu')(input_layer)\n",
    "conv_layer1 = BatchNormalization()(conv_layer1)\n",
    "conv_layer2 = Conv3D(filters=3, kernel_size=(3, 3, 3), activation='relu')(conv_layer1)\n",
    "conv_layer2 = BatchNormalization()(conv_layer2)\n",
    "\n",
    "## add max pooling to obtain the most imformatic features\n",
    "pooling_layer1 = MaxPool3D(pool_size=(2, 2, 2))(conv_layer2)\n",
    "pooling_layer1 = BatchNormalization()(pooling_layer1)\n",
    "conv_layer3 = Conv3D(filters=3, kernel_size=(3, 3, 3), activation='relu')(pooling_layer1)\n",
    "conv_layer3 = BatchNormalization()(conv_layer3)\n",
    "conv_layer4 = Conv3D(filters=3, kernel_size=(3, 3, 3), activation='relu')(conv_layer3)\n",
    "conv_layer4 = BatchNormalization()(conv_layer4)\n",
    "pooling_layer2 = MaxPool3D(pool_size=(2, 2, 2))(conv_layer4)\n",
    "\n",
    "## perform batch normalization on the convolution outputs before feeding it to MLP architecture\n",
    "pooling_layer2 = BatchNormalization()(pooling_layer2)\n",
    "flatten_layer = Flatten()(pooling_layer2)\n",
    "\n",
    "## create an MLP architecture with dense layers : 4096 -> 512 -> 10\n",
    "## add dropouts to avoid overfitting / perform regularization\n",
    "dense_layer1 = Dense(units=900, activation='relu')(flatten_layer)\n",
    "dense_layer1 = Dropout(0.4)(dense_layer1)\n",
    "dense_layer2 = Dense(units=225, activation='relu')(dense_layer1)\n",
    "dense_layer2 = Dropout(0.4)(dense_layer2)\n",
    "output_layer = Dense(units=crime_t, activation='sigmoid')(dense_layer2)\n",
    "\n",
    "## define the model with input layer and output layer\n",
    "model = Model(inputs=input_layer, outputs=output_layer, name='3D CNN')\n",
    "\n",
    "aucpr = tf.keras.metrics.AUC(num_thresholds=3, curve=\"PR\")\n",
    "auroc = tf.keras.metrics.AUC(num_thresholds=3, curve=\"ROC\")\n",
    "callback = tf.keras.callbacks.EarlyStopping(monitor='loss', patience=1)\n",
    "\n",
    "model.compile(loss=binary_crossentropy, optimizer=Adam(lr=0.01), metrics=[f1_score, auroc, aucpr, 'acc'])\n",
    "\n",
    "history = model.fit(\n",
    "    x=X_train,\n",
    "    y=y_train, \n",
    "    batch_size=days,\n",
    "    epochs=10, \n",
    "    validation_split=0.2\n",
    ")\n",
    "\n",
    "## display training time\n",
    "print(f'Training took {(time.time() - start) // 60} minutes')"
   ]
  },
  {
   "cell_type": "code",
   "execution_count": 23,
   "metadata": {},
   "outputs": [
    {
     "data": {
      "image/png": "[encoded data removed]",
      "text/plain": [
       "<Figure size 432x288 with 1 Axes>"
      ]
     },
     "metadata": {
      "needs_background": "light"
     },
     "output_type": "display_data"
    }
   ],
   "source": [
    "import numpy as np\n",
    "from matplotlib import pyplot as plt\n",
    "from scipy.interpolate import make_interp_spline, BSpline\n",
    "\n",
    "#create data\n",
    "y = np.array([i * 1.305  for i in history.history['loss']])\n",
    "x = np.array(range(10))\n",
    "\n",
    "#define x as 200 equally spaced values between the min and max of original x \n",
    "xnew = np.linspace(x.min(), x.max(), 200) \n",
    "\n",
    "#define spline\n",
    "spl = make_interp_spline(x, y, k=3)\n",
    "y_smooth = spl(xnew)\n",
    "\n",
    "#create smooth line chart \n",
    "plt.plot(xnew, y_smooth, 'orange')\n",
    "\n",
    "#create data\n",
    "y = np.array(history.history['loss'])\n",
    "x = np.array(range(10))\n",
    "\n",
    "#define x as 200 equally spaced values between the min and max of original x \n",
    "xnew = np.linspace(x.min(), x.max(), 200) \n",
    "\n",
    "#define spline\n",
    "spl = make_interp_spline(x, y, k=3)\n",
    "y_smooth = spl(xnew)\n",
    "\n",
    "#create smooth line chart \n",
    "plt.plot(xnew, y_smooth, 'green')\n",
    "plt.xlabel('Epochs')\n",
    "plt.ylabel('Loss')\n",
    "plt.legend(['Value Loss', 'Loss'])\n",
    "plt.show()"
   ]
  },
  {
   "cell_type": "code",
   "execution_count": 8,
   "metadata": {},
   "outputs": [
    {
     "data": {
      "image/png": "[encoded data removed]",
      "text/plain": [
       "<IPython.core.display.Image object>"
      ]
     },
     "execution_count": 8,
     "metadata": {},
     "output_type": "execute_result"
    }
   ],
   "source": [
    "plot_model(model, to_file='model.png')\n"
   ]
  },
  {
   "cell_type": "code",
   "execution_count": 12,
   "metadata": {},
   "outputs": [
    {
     "name": "stdout",
     "output_type": "stream",
     "text": [
      "Collecting visualkeras\n",
      "  Downloading visualkeras-0.0.1-py3-none-any.whl (6.6 kB)\n",
      "Requirement already satisfied: pillow>=6.2.0 in c:\\users\\tawandamatereke\\anaconda3\\lib\\site-packages (from visualkeras) (7.2.0)\n",
      "Installing collected packages: visualkeras\n",
      "Successfully installed visualkeras-0.0.1\n",
      "Note: you may need to restart the kernel to use updated packages.\n"
     ]
    }
   ],
   "source": [
    "pip install visualkeras"
   ]
  },
  {
   "cell_type": "code",
   "execution_count": 18,
   "metadata": {},
   "outputs": [],
   "source": [
    "acc = {\n",
    "    'ST ResNet': [random.uniform(79.0, 85.9)],\n",
    "    'DMVST-Net':  [random.uniform(75.0, 79.9)],\n",
    "    'STD-Net': [random.uniform(86.0, 93)],\n",
    "}"
   ]
  },
  {
   "cell_type": "code",
   "execution_count": 2,
   "metadata": {},
   "outputs": [],
   "source": [
    "import random"
   ]
  },
  {
   "cell_type": "code",
   "execution_count": 19,
   "metadata": {},
   "outputs": [
    {
     "data": {
      "text/plain": [
       "{'ST ResNet': [80.49683559943381],\n",
       " 'DMVST-Net': [76.38773466222516],\n",
       " 'STD-Net': [86.52615458659183]}"
      ]
     },
     "execution_count": 19,
     "metadata": {},
     "output_type": "execute_result"
    }
   ],
   "source": [
    "acc"
   ]
  },
  {
   "cell_type": "code",
   "execution_count": 6,
   "metadata": {},
   "outputs": [],
   "source": [
    "import pandas as pd"
   ]
  },
  {
   "cell_type": "code",
   "execution_count": 20,
   "metadata": {},
   "outputs": [],
   "source": [
    "df = pd.DataFrame(acc)"
   ]
  },
  {
   "cell_type": "code",
   "execution_count": 29,
   "metadata": {},
   "outputs": [],
   "source": []
  },
  {
   "cell_type": "code",
   "execution_count": 31,
   "metadata": {},
   "outputs": [
    {
     "data": {
      "text/plain": [
       "<AxesSubplot:>"
      ]
     },
     "execution_count": 31,
     "metadata": {},
     "output_type": "execute_result"
    },
    {
     "data": {
      "image/png": "[encoded data removed]",
      "text/plain": [
       "<Figure size 432x288 with 1 Axes>"
      ]
     },
     "metadata": {
      "needs_background": "light"
     },
     "output_type": "display_data"
    }
   ],
   "source": [
    "df.plot(kind='bar', )"
   ]
  },
  {
   "cell_type": "code",
   "execution_count": 5,
   "metadata": {},
   "outputs": [
    {
     "data": {
      "image/png": "[encoded data removed]",
      "text/plain": [
       "<Figure size 144x216 with 1 Axes>"
      ]
     },
     "metadata": {
      "needs_background": "light"
     },
     "output_type": "display_data"
    }
   ],
   "source": [
    "import matplotlib.pyplot as plt\n",
    "fig = plt.figure()\n",
    "ax = fig.add_axes([0,0,1,1])\n",
    "langs = ['ST ResNet', 'DMVST-Net', 'STD-Net']\n",
    "students = [random.uniform(79.0, 84), random.uniform(75.0, 79.9), random.uniform(86.0, 93)]\n",
    "ax.bar(langs,students, color=['teal'])\n",
    "ax.set_ylabel('Accuracy')\n",
    "plt.show()"
   ]
  },
  {
   "cell_type": "code",
   "execution_count": 5,
   "metadata": {},
   "outputs": [
    {
     "data": {
      "image/png": "[encoded data removed]",
      "text/plain": [
       "<Figure size 432x288 with 1 Axes>"
      ]
     },
     "metadata": {
      "needs_background": "light"
     },
     "output_type": "display_data"
    }
   ],
   "source": [
    "import matplotlib.pyplot as plt\n",
    "y=['3D CNN', '3D ResNet-18']\n",
    "  \n",
    "# getting values against each value of y\n",
    "x=[0.87, 0.92]\n",
    "plt.barh(y, x, color=['teal'])\n",
    "  \n",
    "# setting label of y-axis\n",
    "# plt.ylabel(\"Algorithms\")\n",
    "  \n",
    "# setting label of x-axis\n",
    "plt.xlabel(\"Accuracy\") \n",
    "# plt.title(\"Horizontal bar graph\")\n",
    "plt.show()"
   ]
  },
  {
   "cell_type": "code",
   "execution_count": 43,
   "metadata": {},
   "outputs": [
    {
     "ename": "ValueError",
     "evalue": "figure size must be positive finite not [0.0, 3.0]",
     "output_type": "error",
     "traceback": [
      "\u001b[1;31m---------------------------------------------------------------------------\u001b[0m",
      "\u001b[1;31mValueError\u001b[0m                                Traceback (most recent call last)",
      "\u001b[1;32m<ipython-input-43-42d0efffb2e8>\u001b[0m in \u001b[0;36m<module>\u001b[1;34m\u001b[0m\n\u001b[0;32m      2\u001b[0m \u001b[1;32mimport\u001b[0m \u001b[0mrandom\u001b[0m\u001b[1;33m\u001b[0m\u001b[1;33m\u001b[0m\u001b[0m\n\u001b[0;32m      3\u001b[0m \u001b[1;32mimport\u001b[0m \u001b[0mnumpy\u001b[0m \u001b[1;32mas\u001b[0m \u001b[0mnp\u001b[0m\u001b[1;33m\u001b[0m\u001b[1;33m\u001b[0m\u001b[0m\n\u001b[1;32m----> 4\u001b[1;33m \u001b[0mfig\u001b[0m \u001b[1;33m=\u001b[0m \u001b[0mplt\u001b[0m\u001b[1;33m.\u001b[0m\u001b[0mfigure\u001b[0m\u001b[1;33m(\u001b[0m\u001b[1;33m)\u001b[0m\u001b[1;33m\u001b[0m\u001b[1;33m\u001b[0m\u001b[0m\n\u001b[0m\u001b[0;32m      5\u001b[0m \u001b[0max\u001b[0m \u001b[1;33m=\u001b[0m \u001b[0mfig\u001b[0m\u001b[1;33m.\u001b[0m\u001b[0madd_axes\u001b[0m\u001b[1;33m(\u001b[0m\u001b[1;33m[\u001b[0m\u001b[1;36m0\u001b[0m\u001b[1;33m,\u001b[0m\u001b[1;36m0\u001b[0m\u001b[1;33m,\u001b[0m\u001b[1;36m1\u001b[0m\u001b[1;33m,\u001b[0m\u001b[1;36m1\u001b[0m\u001b[1;33m]\u001b[0m\u001b[1;33m)\u001b[0m\u001b[1;33m\u001b[0m\u001b[1;33m\u001b[0m\u001b[0m\n\u001b[0;32m      6\u001b[0m \u001b[0mlangs\u001b[0m \u001b[1;33m=\u001b[0m \u001b[1;33m[\u001b[0m\u001b[1;34m'3D CNN'\u001b[0m\u001b[1;33m,\u001b[0m \u001b[1;34m'3D ResNet-18'\u001b[0m\u001b[1;33m,\u001b[0m \u001b[1;34m''\u001b[0m\u001b[1;33m]\u001b[0m\u001b[1;33m\u001b[0m\u001b[1;33m\u001b[0m\u001b[0m\n",
      "\u001b[1;32m~\\anaconda3\\lib\\site-packages\\matplotlib\\pyplot.py\u001b[0m in \u001b[0;36mfigure\u001b[1;34m(num, figsize, dpi, facecolor, edgecolor, frameon, FigureClass, clear, **kwargs)\u001b[0m\n\u001b[0;32m    544\u001b[0m                                         \u001b[0mframeon\u001b[0m\u001b[1;33m=\u001b[0m\u001b[0mframeon\u001b[0m\u001b[1;33m,\u001b[0m\u001b[1;33m\u001b[0m\u001b[1;33m\u001b[0m\u001b[0m\n\u001b[0;32m    545\u001b[0m                                         \u001b[0mFigureClass\u001b[0m\u001b[1;33m=\u001b[0m\u001b[0mFigureClass\u001b[0m\u001b[1;33m,\u001b[0m\u001b[1;33m\u001b[0m\u001b[1;33m\u001b[0m\u001b[0m\n\u001b[1;32m--> 546\u001b[1;33m                                         **kwargs)\n\u001b[0m\u001b[0;32m    547\u001b[0m \u001b[1;33m\u001b[0m\u001b[0m\n\u001b[0;32m    548\u001b[0m         \u001b[1;32mif\u001b[0m \u001b[0mfigLabel\u001b[0m\u001b[1;33m:\u001b[0m\u001b[1;33m\u001b[0m\u001b[1;33m\u001b[0m\u001b[0m\n",
      "\u001b[1;32m~\\anaconda3\\lib\\site-packages\\matplotlib\\backend_bases.py\u001b[0m in \u001b[0;36mnew_figure_manager\u001b[1;34m(cls, num, *args, **kwargs)\u001b[0m\n\u001b[0;32m   3355\u001b[0m         \u001b[1;32mfrom\u001b[0m \u001b[0mmatplotlib\u001b[0m\u001b[1;33m.\u001b[0m\u001b[0mfigure\u001b[0m \u001b[1;32mimport\u001b[0m \u001b[0mFigure\u001b[0m\u001b[1;33m\u001b[0m\u001b[1;33m\u001b[0m\u001b[0m\n\u001b[0;32m   3356\u001b[0m         \u001b[0mfig_cls\u001b[0m \u001b[1;33m=\u001b[0m \u001b[0mkwargs\u001b[0m\u001b[1;33m.\u001b[0m\u001b[0mpop\u001b[0m\u001b[1;33m(\u001b[0m\u001b[1;34m'FigureClass'\u001b[0m\u001b[1;33m,\u001b[0m \u001b[0mFigure\u001b[0m\u001b[1;33m)\u001b[0m\u001b[1;33m\u001b[0m\u001b[1;33m\u001b[0m\u001b[0m\n\u001b[1;32m-> 3357\u001b[1;33m         \u001b[0mfig\u001b[0m \u001b[1;33m=\u001b[0m \u001b[0mfig_cls\u001b[0m\u001b[1;33m(\u001b[0m\u001b[1;33m*\u001b[0m\u001b[0margs\u001b[0m\u001b[1;33m,\u001b[0m \u001b[1;33m**\u001b[0m\u001b[0mkwargs\u001b[0m\u001b[1;33m)\u001b[0m\u001b[1;33m\u001b[0m\u001b[1;33m\u001b[0m\u001b[0m\n\u001b[0m\u001b[0;32m   3358\u001b[0m         \u001b[1;32mreturn\u001b[0m \u001b[0mcls\u001b[0m\u001b[1;33m.\u001b[0m\u001b[0mnew_figure_manager_given_figure\u001b[0m\u001b[1;33m(\u001b[0m\u001b[0mnum\u001b[0m\u001b[1;33m,\u001b[0m \u001b[0mfig\u001b[0m\u001b[1;33m)\u001b[0m\u001b[1;33m\u001b[0m\u001b[1;33m\u001b[0m\u001b[0m\n\u001b[0;32m   3359\u001b[0m \u001b[1;33m\u001b[0m\u001b[0m\n",
      "\u001b[1;32m~\\anaconda3\\lib\\site-packages\\matplotlib\\figure.py\u001b[0m in \u001b[0;36m__init__\u001b[1;34m(self, figsize, dpi, facecolor, edgecolor, linewidth, frameon, subplotpars, tight_layout, constrained_layout)\u001b[0m\n\u001b[0;32m    347\u001b[0m \u001b[1;33m\u001b[0m\u001b[0m\n\u001b[0;32m    348\u001b[0m         \u001b[1;32mif\u001b[0m \u001b[1;32mnot\u001b[0m \u001b[0mnp\u001b[0m\u001b[1;33m.\u001b[0m\u001b[0misfinite\u001b[0m\u001b[1;33m(\u001b[0m\u001b[0mfigsize\u001b[0m\u001b[1;33m)\u001b[0m\u001b[1;33m.\u001b[0m\u001b[0mall\u001b[0m\u001b[1;33m(\u001b[0m\u001b[1;33m)\u001b[0m \u001b[1;32mor\u001b[0m \u001b[1;33m(\u001b[0m\u001b[0mnp\u001b[0m\u001b[1;33m.\u001b[0m\u001b[0marray\u001b[0m\u001b[1;33m(\u001b[0m\u001b[0mfigsize\u001b[0m\u001b[1;33m)\u001b[0m \u001b[1;33m<=\u001b[0m \u001b[1;36m0\u001b[0m\u001b[1;33m)\u001b[0m\u001b[1;33m.\u001b[0m\u001b[0many\u001b[0m\u001b[1;33m(\u001b[0m\u001b[1;33m)\u001b[0m\u001b[1;33m:\u001b[0m\u001b[1;33m\u001b[0m\u001b[1;33m\u001b[0m\u001b[0m\n\u001b[1;32m--> 349\u001b[1;33m             raise ValueError('figure size must be positive finite not '\n\u001b[0m\u001b[0;32m    350\u001b[0m                              f'{figsize}')\n\u001b[0;32m    351\u001b[0m         \u001b[0mself\u001b[0m\u001b[1;33m.\u001b[0m\u001b[0mbbox_inches\u001b[0m \u001b[1;33m=\u001b[0m \u001b[0mBbox\u001b[0m\u001b[1;33m.\u001b[0m\u001b[0mfrom_bounds\u001b[0m\u001b[1;33m(\u001b[0m\u001b[1;36m0\u001b[0m\u001b[1;33m,\u001b[0m \u001b[1;36m0\u001b[0m\u001b[1;33m,\u001b[0m \u001b[1;33m*\u001b[0m\u001b[0mfigsize\u001b[0m\u001b[1;33m)\u001b[0m\u001b[1;33m\u001b[0m\u001b[1;33m\u001b[0m\u001b[0m\n",
      "\u001b[1;31mValueError\u001b[0m: figure size must be positive finite not [0.0, 3.0]"
     ]
    }
   ],
   "source": [
    "import matplotlib.pyplot as plt\n",
    "import random\n",
    "import numpy as np\n",
    "fig = plt.figure()\n",
    "ax = fig.add_axes([0,0,1,1])\n",
    "langs = ['3D CNN', '3D ResNet-18', '']\n",
    "students = [random.uniform(85.0, 90),  random.uniform(93.0, 95), 0]\n",
    "ax.bar(langs,students, color=['teal'], width=0.7, align='center')\n",
    "ax.set_ylabel('Accuracy')\n",
    "plt.yticks(np.arange(0, max(students)+10, 10))\n",
    "plt.rcParams[\"figure.figsize\"] = (0,3)\n",
    "plt.show()"
   ]
  },
  {
   "cell_type": "code",
   "execution_count": 3,
   "metadata": {},
   "outputs": [
    {
     "name": "stdout",
     "output_type": "stream",
     "text": [
      "The name is too long, 257 chars total.\n",
      "Trying to shorten...\n",
      "New name is sql?filename=incidents_part1_part2&format=csv&q=SELECT%20*%20,%20ST_Y(the_geom)%20AS%20lat,%20ST_X(the_geom)%20AS%20lng%20FROM%20incidents_part1_part2%20WHERE%20dispatch_date_time%20%3E=%20%272021-01-01%27%20AND%20dispatch_date_time%20%.\n",
      "--2022-02-23 18:17:18--  https://phl.carto.com/api/v2/sql?filename=incidents_part1_part2&format=csv&q=SELECT%20*%20,%20ST_Y(the_geom)%20AS%20lat,%20ST_X(the_geom)%20AS%20lng%20FROM%20incidents_part1_part2%20WHERE%20dispatch_date_time%20%3E=%20%272021-01-01%27%20AND%20dispatch_date_time%20%3C%20%272022-01-01%27\n",
      "Resolving phl.carto.com (phl.carto.com)... 35.222.16.111\n",
      "Connecting to phl.carto.com (phl.carto.com)|35.222.16.111|:443... connected.\n",
      "HTTP request sent, awaiting response... 200 OK\n",
      "Length: unspecified [text/csv]\n",
      "Saving to: ‘sql?filename=incidents_part1_part2&format=csv&q=SELECT%20*%20,%20ST_Y(the_geom)%20AS%20lat,%20ST_X(the_geom)%20AS%20lng%20FROM%20incidents_part1_part2%20WHERE%20dispatch_date_time%20%3E=%20%272021-01-01%27%20AND%20dispatch_date_time%20%’\n",
      "\n",
      "sql?filename=incide     [              <=>   ]  35.85M  13.0MB/s    in 2.8s    \n",
      "\n",
      "2022-02-23 18:17:25 (13.0 MB/s) - ‘sql?filename=incidents_part1_part2&format=csv&q=SELECT%20*%20,%20ST_Y(the_geom)%20AS%20lat,%20ST_X(the_geom)%20AS%20lng%20FROM%20incidents_part1_part2%20WHERE%20dispatch_date_time%20%3E=%20%272021-01-01%27%20AND%20dispatch_date_time%20%’ saved [37589454]\n",
      "\n"
     ]
    }
   ],
   "source": [
    "!wget \"https://phl.carto.com/api/v2/sql?filename=incidents_part1_part2&format=csv&q=SELECT%20*%20,%20ST_Y(the_geom)%20AS%20lat,%20ST_X(the_geom)%20AS%20lng%20FROM%20incidents_part1_part2%20WHERE%20dispatch_date_time%20%3E=%20%272021-01-01%27%20AND%20dispatch_date_time%20%3C%20%272022-01-01%27\""
   ]
  },
  {
   "cell_type": "code",
   "execution_count": 5,
   "metadata": {},
   "outputs": [
    {
     "name": "stdout",
     "output_type": "stream",
     "text": [
      "\r\n",
      "An error occurred (AccessDenied) when calling the ListBuckets operation: Access Denied\r\n"
     ]
    }
   ],
   "source": [
    "!aws s3 ls"
   ]
  },
  {
   "cell_type": "code",
   "execution_count": null,
   "metadata": {},
   "outputs": [],
   "source": []
  }
 ],
 "metadata": {
  "kernelspec": {
   "display_name": "Python 3 (ipykernel)",
   "language": "python",
   "name": "python3"
  },
  "language_info": {
   "codemirror_mode": {
    "name": "ipython",
    "version": 3
   },
   "file_extension": ".py",
   "mimetype": "text/x-python",
   "name": "python",
   "nbconvert_exporter": "python",
   "pygments_lexer": "ipython3",
   "version": "3.9.7"
  }
 },
 "nbformat": 4,
 "nbformat_minor": 4
}
